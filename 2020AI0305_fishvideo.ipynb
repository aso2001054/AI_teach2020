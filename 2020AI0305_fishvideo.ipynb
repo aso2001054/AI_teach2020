{
  "nbformat": 4,
  "nbformat_minor": 0,
  "metadata": {
    "colab": {
      "name": "2020AI0305-fishvideo.ipynb",
      "provenance": [],
      "authorship_tag": "ABX9TyO9jIvD8ZKTJh/xxB66l2uI",
      "include_colab_link": true
    },
    "kernelspec": {
      "name": "python3",
      "display_name": "Python 3"
    }
  },
  "cells": [
    {
      "cell_type": "markdown",
      "metadata": {
        "id": "view-in-github",
        "colab_type": "text"
      },
      "source": [
        "<a href=\"https://colab.research.google.com/github/aso2001054/AI_teach2020/blob/master/2020AI0305_fishvideo.ipynb\" target=\"_parent\"><img src=\"https://colab.research.google.com/assets/colab-badge.svg\" alt=\"Open In Colab\"/></a>"
      ]
    },
    {
      "cell_type": "code",
      "metadata": {
        "id": "WY_97LM-lSRo"
      },
      "source": [
        "import cv2\n",
        "import os\n",
        "import urllib.request as req"
      ],
      "execution_count": 1,
      "outputs": []
    },
    {
      "cell_type": "code",
      "metadata": {
        "id": "zeOeB2QMximj"
      },
      "source": [
        "img_last = None\n",
        "no = 0\n",
        "save_dir = \"./exfish\"\n",
        "os.makedirs(save_dir, exist_ok=True)"
      ],
      "execution_count": 2,
      "outputs": []
    },
    {
      "cell_type": "code",
      "metadata": {
        "id": "iArPCXHgGzxW",
        "colab": {
          "base_uri": "https://localhost:8080/",
          "height": 134
        },
        "outputId": "f1ba55ee-b662-48f8-c379-8c9d11e96f02"
      },
      "source": [
        "url = \"https://github.com/masatokg/sample_photo/raw/master/fish.mp4\"\n",
        "save_file = \"fish.mp4\"\n",
        "req.urlretrieve(url, save_file)\n",
        "cap = cv2.VideoCapture(save_file)\n",
        "while(True):\n",
        "  is_ok, frame = cap.read()\n",
        "  if not is_ok:\n",
        "    print(\"end\")\n",
        "    break\n",
        "    frame = cv2.resize(frame, (640, 360))\n",
        "    gray = cv2.cvtColor(frame, cv2.COLOR_BGR2GRAY)\n",
        "    gray = cv2.GaussianBlur(gray, (15, 15), 0)\n",
        "    img_b = cv2.threshold(gray, 127, 255, cv2.THRESH_BINARY)[1]\n",
        "    \n",
        "    if not img_last is None:\n",
        "      frame_diff = cv2.absdiff(img_last, img_b)\n",
        "      cnts = cv2.findContours(frame_diff, cv2.RETR_EXTERNAL, cv2.CHAIN_APPROX_SIMPLE)[0]\n",
        "\n",
        "      for pt is cnts:\n",
        "        x, y, w, h = cv2.boundingRect(pt)\n",
        "        if w< 100 or w > 500: continue:\n",
        "          imgex = frame[ y:y+h, x:x+w ]\n",
        "          \n",
        "          outfile = save_dir + \"/\" + str(no) + \".jpg\"\n",
        "          cv2.imwrite(outfile, imgex)\n",
        "          \n",
        "          no += 1\n",
        "      img_last = img_b\n",
        "      cap.release()\n",
        "      print(\"ok\")\n"
      ],
      "execution_count": 3,
      "outputs": [
        {
          "output_type": "error",
          "ename": "SyntaxError",
          "evalue": "ignored",
          "traceback": [
            "\u001b[0;36m  File \u001b[0;32m\"<ipython-input-3-56a48c6a4527>\"\u001b[0;36m, line \u001b[0;32m19\u001b[0m\n\u001b[0;31m    for pt is cnts:\u001b[0m\n\u001b[0m            ^\u001b[0m\n\u001b[0;31mSyntaxError\u001b[0m\u001b[0;31m:\u001b[0m invalid syntax\n"
          ]
        }
      ]
    },
    {
      "cell_type": "code",
      "metadata": {
        "colab": {
          "base_uri": "https://localhost:8080/",
          "height": 34
        },
        "id": "WgqjIWm7VuoP",
        "outputId": "5d5c5e37-90c1-4dff-ecce-0d97b2e93af0"
      },
      "source": [
        "! zip -r /content/download.zip /content/exfish\n",
        "from google.colab import files\n",
        "files.download(\"/content/download.zip\")"
      ],
      "execution_count": 5,
      "outputs": [
        {
          "output_type": "stream",
          "text": [
            "  adding: content/exfish/ (stored 0%)\n"
          ],
          "name": "stdout"
        },
        {
          "output_type": "display_data",
          "data": {
            "application/javascript": [
              "\n",
              "    async function download(id, filename, size) {\n",
              "      if (!google.colab.kernel.accessAllowed) {\n",
              "        return;\n",
              "      }\n",
              "      const div = document.createElement('div');\n",
              "      const label = document.createElement('label');\n",
              "      label.textContent = `Downloading \"${filename}\": `;\n",
              "      div.appendChild(label);\n",
              "      const progress = document.createElement('progress');\n",
              "      progress.max = size;\n",
              "      div.appendChild(progress);\n",
              "      document.body.appendChild(div);\n",
              "\n",
              "      const buffers = [];\n",
              "      let downloaded = 0;\n",
              "\n",
              "      const channel = await google.colab.kernel.comms.open(id);\n",
              "      // Send a message to notify the kernel that we're ready.\n",
              "      channel.send({})\n",
              "\n",
              "      for await (const message of channel.messages) {\n",
              "        // Send a message to notify the kernel that we're ready.\n",
              "        channel.send({})\n",
              "        if (message.buffers) {\n",
              "          for (const buffer of message.buffers) {\n",
              "            buffers.push(buffer);\n",
              "            downloaded += buffer.byteLength;\n",
              "            progress.value = downloaded;\n",
              "          }\n",
              "        }\n",
              "      }\n",
              "      const blob = new Blob(buffers, {type: 'application/binary'});\n",
              "      const a = document.createElement('a');\n",
              "      a.href = window.URL.createObjectURL(blob);\n",
              "      a.download = filename;\n",
              "      div.appendChild(a);\n",
              "      a.click();\n",
              "      div.remove();\n",
              "    }\n",
              "  "
            ],
            "text/plain": [
              "<IPython.core.display.Javascript object>"
            ]
          },
          "metadata": {
            "tags": []
          }
        },
        {
          "output_type": "display_data",
          "data": {
            "application/javascript": [
              "download(\"download_24ef4712-92d7-43a5-b784-84ab931aa6a2\", \"download.zip\", 180)"
            ],
            "text/plain": [
              "<IPython.core.display.Javascript object>"
            ]
          },
          "metadata": {
            "tags": []
          }
        }
      ]
    }
  ]
}