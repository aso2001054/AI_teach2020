{
  "nbformat": 4,
  "nbformat_minor": 0,
  "metadata": {
    "colab": {
      "name": "2020AI0401-lang-character.ipynb",
      "provenance": [],
      "authorship_tag": "ABX9TyNXZHnZVL5Jk3vVvh26jySA",
      "include_colab_link": true
    },
    "kernelspec": {
      "name": "python3",
      "display_name": "Python 3"
    }
  },
  "cells": [
    {
      "cell_type": "markdown",
      "metadata": {
        "id": "view-in-github",
        "colab_type": "text"
      },
      "source": [
        "<a href=\"https://colab.research.google.com/github/aso2001054/AI_teach2020/blob/master/2020AI0401_lang_character.ipynb\" target=\"_parent\"><img src=\"https://colab.research.google.com/assets/colab-badge.svg\" alt=\"Open In Colab\"/></a>"
      ]
    },
    {
      "cell_type": "code",
      "metadata": {
        "id": "Fsv_xVi_xOdN"
      },
      "source": [
        "import numpy as np\r\n",
        "from sklearn.naive_bayes import GaussianNB\r\n",
        "from sklearn.metrics import accuracy_score"
      ],
      "execution_count": 1,
      "outputs": []
    },
    {
      "cell_type": "code",
      "metadata": {
        "id": "tp9T9dSeDTBb"
      },
      "source": [
        "def count_codePoint(str):\r\n",
        "  counter = np.zeros(65535)\r\n",
        "  for i in range( len(str) ):\r\n",
        "    code_point = ord(str[i])\r\n",
        "    if code_point > 65535:\r\n",
        "      continue\r\n",
        "    counter[code_point] += 1\r\n",
        "  counter = counter/len(str)\r\n",
        "  return counter"
      ],
      "execution_count": 3,
      "outputs": []
    },
    {
      "cell_type": "code",
      "metadata": {
        "id": "FrchuYBDF269"
      },
      "source": [
        "ja_str = \"これは日本語の文章です。\"\r\n",
        "en_str = \"This is English Sentences\"\r\n",
        "th_str = \"นี่เป็นประโยคภาษาญี่ปุ่น\"\r\n",
        "x_train = [count_codePoint(ja_str), count_codePoint(en_str), count_codePoint(th_str)]\r\n",
        "y_train = [\"ja\", \"en\", \"th\"]"
      ],
      "execution_count": 4,
      "outputs": []
    },
    {
      "cell_type": "code",
      "metadata": {
        "colab": {
          "base_uri": "https://localhost:8080/"
        },
        "id": "Pz6R9oqiKpgl",
        "outputId": "fb60ef43-94d2-4eff-db07-b81992fc5988"
      },
      "source": [
        "clf = GaussianNB()\r\n",
        "clf.fit(x_train, y_train)"
      ],
      "execution_count": 5,
      "outputs": [
        {
          "output_type": "execute_result",
          "data": {
            "text/plain": [
              "GaussianNB(priors=None, var_smoothing=1e-09)"
            ]
          },
          "metadata": {
            "tags": []
          },
          "execution_count": 5
        }
      ]
    },
    {
      "cell_type": "code",
      "metadata": {
        "id": "WpK3fiLALQi_"
      },
      "source": [
        "ja_test_str = \"こんにちは\"\r\n",
        "en_test_str = \"Hello\"\r\n",
        "th_test_str = \"สวัสดี\"\r\n",
        "\r\n",
        "x_test = [count_codePoint(ja_test_str), count_codePoint(en_test_str), count_codePoint(th_test_str)]\r\n",
        "y_test = ['ja', 'en', 'th']"
      ],
      "execution_count": 6,
      "outputs": []
    },
    {
      "cell_type": "code",
      "metadata": {
        "colab": {
          "base_uri": "https://localhost:8080/"
        },
        "id": "GQpS7Zh2NDQQ",
        "outputId": "4e2d639c-725f-451e-ab2a-cec6e95a2895"
      },
      "source": [
        "y_pred = clf.predict(x_test)\r\n",
        "print(\"1つ目の文章の言語は\",y_pred[0],\"です\")\r\n",
        "print(\"2つ目の文章の言語は\",y_pred[1],\"です\")\r\n",
        "print(\"3つ目の文章の言語は\",y_pred[2],\"です\")\r\n",
        "print(\"正解率 = \",accuracy_score(y_test, y_pred))"
      ],
      "execution_count": 7,
      "outputs": [
        {
          "output_type": "stream",
          "text": [
            "1つ目の文章の言語は ja です\n",
            "2つ目の文章の言語は en です\n",
            "3つ目の文章の言語は th です\n",
            "正解率 =  1.0\n"
          ],
          "name": "stdout"
        }
      ]
    }
  ]
}