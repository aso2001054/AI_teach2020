{
  "nbformat": 4,
  "nbformat_minor": 0,
  "metadata": {
    "colab": {
      "name": "2020AI0402-Word2Vec.ipynb",
      "provenance": [],
      "authorship_tag": "ABX9TyNOrEh153o6NurS5PivKoYF",
      "include_colab_link": true
    },
    "kernelspec": {
      "name": "python3",
      "display_name": "Python 3"
    }
  },
  "cells": [
    {
      "cell_type": "markdown",
      "metadata": {
        "id": "view-in-github",
        "colab_type": "text"
      },
      "source": [
        "<a href=\"https://colab.research.google.com/github/aso2001054/AI_teach2020/blob/master/2020AI0402_Word2Vec.ipynb\" target=\"_parent\"><img src=\"https://colab.research.google.com/assets/colab-badge.svg\" alt=\"Open In Colab\"/></a>"
      ]
    },
    {
      "cell_type": "code",
      "metadata": {
        "id": "3Qn_WnkYGhZf",
        "colab": {
          "base_uri": "https://localhost:8080/"
        },
        "outputId": "af2d6cd4-0a41-403e-8c65-8bbc404d85ff"
      },
      "source": [
        "import urllib.request as req\r\n",
        "url = \"https://www.dropbox.com/s/8kv39qpvg965i06/word2vec.gensim.zip?dl=1\"\r\n",
        "save_file = \"word2vec.gensim.model.zip\"\r\n",
        "req.urlretrieve( url, save_file )\r\n",
        "\r\n",
        "!unzip -o -q \"word2vec.gensim.model.zip\"\r\n",
        "print(\"word2vec.zip解凍\")"
      ],
      "execution_count": 15,
      "outputs": [
        {
          "output_type": "stream",
          "text": [
            "word2vec.zip解凍\n"
          ],
          "name": "stdout"
        }
      ]
    },
    {
      "cell_type": "code",
      "metadata": {
        "id": "USZXSdojJ-vw"
      },
      "source": [
        "from gensim.models import Word2Vec\r\n",
        "model = Word2Vec. load(\"/content/word2vec.gensim.model\")"
      ],
      "execution_count": 16,
      "outputs": []
    },
    {
      "cell_type": "code",
      "metadata": {
        "id": "-tLTvnusK3nI",
        "colab": {
          "base_uri": "https://localhost:8080/"
        },
        "outputId": "72856cc1-5b34-4017-bf37-952c45f6b564"
      },
      "source": [
        "results = model.wv.most_similar( positive=['業務'] )\r\n",
        "\r\n",
        "for result in results:\r\n",
        "  print(result)"
      ],
      "execution_count": 17,
      "outputs": [
        {
          "output_type": "stream",
          "text": [
            "('事務', 0.8289206027984619)\n",
            "('民間企業', 0.7522704601287842)\n",
            "('郵便事業', 0.7504326105117798)\n",
            "('業務委託', 0.7485122680664062)\n",
            "('部署', 0.7473441362380981)\n",
            "('事業活動', 0.7471715807914734)\n",
            "('訪問販売', 0.7450355887413025)\n",
            "('監査', 0.7425470352172852)\n",
            "('生産管理', 0.7392193078994751)\n",
            "('アウトソーシング', 0.7390390634536743)\n"
          ],
          "name": "stdout"
        }
      ]
    },
    {
      "cell_type": "code",
      "metadata": {
        "colab": {
          "base_uri": "https://localhost:8080/"
        },
        "id": "ss74cHt2Kec4",
        "outputId": "ecbfe850-f7a7-4c2b-8456-8ac75bd48a48"
      },
      "source": [
        "print(\"-----\")\r\n",
        "print(\"国王\")\r\n",
        "results = model.wv.most_similar(\"国王\")\r\n",
        "for result in results:\r\n",
        "  print(result)\r\n",
        "\r\n",
        "print(\"-----\")\r\n",
        "print(\"王\")\r\n",
        "results = model.wv.most_similar(\"王\")\r\n",
        "for result in results:\r\n",
        "  print(result)\r\n",
        "\r\n",
        "print(\"-----\")\r\n",
        "print(\"王様\")\r\n",
        "results = model.wv.most_similar(\"王様\")\r\n",
        "for result in results:\r\n",
        "  print(result)\r\n",
        "\r\n",
        "print(\"-----\")\r\n",
        "print(\"王様+女性\")\r\n",
        "results = model.wv.most_similar(positive=[\"王様\",\"女性\"])\r\n",
        "for result in results:\r\n",
        "  print(result)\r\n"
      ],
      "execution_count": 18,
      "outputs": [
        {
          "output_type": "stream",
          "text": [
            "-----\n",
            "国王\n",
            "('ツァーリ', 0.9053068161010742)\n",
            "('スルタン', 0.8805959820747375)\n",
            "('皇帝', 0.874972939491272)\n",
            "('スルターン', 0.8520403504371643)\n",
            "('女帝', 0.8492650389671326)\n",
            "('ジェームズ2世', 0.837557315826416)\n",
            "('王太子', 0.8365861177444458)\n",
            "('摂政', 0.8361721634864807)\n",
            "('イギリス国王', 0.8348546028137207)\n",
            "('君主', 0.8336648941040039)\n",
            "-----\n",
            "王\n",
            "('大王', 0.855927586555481)\n",
            "('皇帝', 0.8524040579795837)\n",
            "('先王', 0.8425959348678589)\n",
            "('君主', 0.824544370174408)\n",
            "('ローマ皇帝', 0.8206972479820251)\n",
            "('西ローマ皇帝', 0.8157353401184082)\n",
            "('王シ', 0.8076152205467224)\n",
            "('ファラオ', 0.8029801845550537)\n",
            "('女帝', 0.8029454350471497)\n",
            "('聖王', 0.7952451705932617)\n",
            "-----\n",
            "王様\n",
            "('野獣', 0.8659248352050781)\n",
            "('お姫様', 0.8607541918754578)\n",
            "('魔女', 0.8333204388618469)\n",
            "('花嫁', 0.830689013004303)\n",
            "('乙女', 0.8267987966537476)\n",
            "('キューピッド', 0.8178128004074097)\n",
            "('狩人', 0.8152097463607788)\n",
            "('父さん', 0.8097778558731079)\n",
            "('パパ', 0.8046603798866272)\n",
            "('帽子屋', 0.8032904863357544)\n",
            "-----\n",
            "王様+女性\n",
            "('少女', 0.8220486044883728)\n",
            "('彼女ら', 0.8072021007537842)\n",
            "('美女', 0.8049534559249878)\n",
            "('美少年', 0.8014258146286011)\n",
            "('お姫様', 0.798124372959137)\n",
            "('メイド', 0.7976080179214478)\n",
            "('彼女たち', 0.7953735589981079)\n",
            "('花嫁', 0.7931262254714966)\n",
            "('野獣', 0.7845075130462646)\n",
            "('貴婦人', 0.7812718152999878)\n"
          ],
          "name": "stdout"
        }
      ]
    },
    {
      "cell_type": "code",
      "metadata": {
        "colab": {
          "base_uri": "https://localhost:8080/"
        },
        "id": "fe_VXq1zMEuc",
        "outputId": "c02b2dd0-1f7a-46e0-b60b-58e20ece1ad6"
      },
      "source": [
        "results = model.wv.most_similar(positive=[\"至急\"])\r\n",
        "for result in results:\r\n",
        "  print(result)\r\n",
        "\r\n",
        "results = model.wv.most_similar(positive=[\"急ぎ\"])\r\n",
        "for result in results:\r\n",
        "  print(result)"
      ],
      "execution_count": 19,
      "outputs": [
        {
          "output_type": "stream",
          "text": [
            "('急ぎ', 0.7244844436645508)\n",
            "('無電', 0.7031903266906738)\n",
            "('雄洋', 0.6877992153167725)\n",
            "('栄丸', 0.6654155850410461)\n",
            "('比叡', 0.6648874878883362)\n",
            "('信濃丸', 0.6561662554740906)\n",
            "('富士山丸', 0.6513621211051941)\n",
            "('退艦', 0.6435442566871643)\n",
            "('停船', 0.6430754065513611)\n",
            "('薄雲', 0.6411623358726501)\n",
            "('やむなく', 0.789318859577179)\n",
            "('ひそか', 0.7474408745765686)\n",
            "('ただちに', 0.7438754439353943)\n",
            "('ひとまず', 0.7431749105453491)\n",
            "('やむを得ず', 0.7409578561782837)\n",
            "('急ぐ', 0.7246897220611572)\n",
            "('至急', 0.7244844436645508)\n",
            "('すぐさま', 0.7139618396759033)\n",
            "('敗報', 0.7133142352104187)\n",
            "('渋る', 0.7113310098648071)\n"
          ],
          "name": "stdout"
        }
      ]
    },
    {
      "cell_type": "code",
      "metadata": {
        "colab": {
          "base_uri": "https://localhost:8080/"
        },
        "id": "GebEdlk4PJfj",
        "outputId": "76b784ad-4b66-47bf-e6cc-ab1b82da960c"
      },
      "source": [
        "!apt-get -q -y install sudo file mecab libmecab-dev mecab-ipadic-utf8 git curl python-mecab >\r\n",
        "!pip install mecab-python3 > /dev/null\r\n",
        "\r\n",
        "!ln -s /etc/mecabrc /usr/local/etc/mecabrc"
      ],
      "execution_count": 20,
      "outputs": [
        {
          "output_type": "stream",
          "text": [
            "/bin/bash: -c: line 0: syntax error near unexpected token `newline'\n",
            "/bin/bash: -c: line 0: `apt-get -q -y install sudo file mecab libmecab-dev mecab-ipadic-utf8 git curl python-mecab >'\n",
            "ln: failed to create symbolic link '/usr/local/etc/mecabrc': File exists\n"
          ],
          "name": "stdout"
        }
      ]
    },
    {
      "cell_type": "code",
      "metadata": {
        "colab": {
          "base_uri": "https://localhost:8080/"
        },
        "id": "c77cmWBLQtzL",
        "outputId": "986f45bc-cc50-42e2-ef8a-9ed9cce71743"
      },
      "source": [
        "!git clone --depth 1 http://github.com/neologd/mecab-ipadic-neologd.git > /dev/null\r\n",
        "!echo yes | mecab-ipadic-neologd/bin/install-mecab-ipadic-neologd -n > /dev/null 2>&1"
      ],
      "execution_count": 21,
      "outputs": [
        {
          "output_type": "stream",
          "text": [
            "fatal: destination path 'mecab-ipadic-neologd' already exists and is not an empty directory.\n"
          ],
          "name": "stdout"
        }
      ]
    },
    {
      "cell_type": "code",
      "metadata": {
        "colab": {
          "base_uri": "https://localhost:8080/"
        },
        "id": "YJgDP1b6Rasg",
        "outputId": "478aed52-1ac0-4673-9959-98fcabfcea54"
      },
      "source": [
        "!echo `mecab-config --dicdir`\"/mecab-ipadic-neologd\""
      ],
      "execution_count": 22,
      "outputs": [
        {
          "output_type": "stream",
          "text": [
            "/bin/bash: mecab-config: command not found\n",
            "/mecab-ipadic-neologd\n"
          ],
          "name": "stdout"
        }
      ]
    },
    {
      "cell_type": "code",
      "metadata": {
        "colab": {
          "base_uri": "https://localhost:8080/",
          "height": 593
        },
        "id": "kE3bJTlFRxWQ",
        "outputId": "bea1d758-2f35-4341-f0e0-7ec2242d4ce0"
      },
      "source": [
        "import MeCab\r\n",
        "path_neologd = \"usr/lib/x86 64-linux-gnu/mecab/dic/mecab-ipadic-neologd\"\r\n",
        "tagger = MeCab.Tagger(\"-d \"+ path_neologd)"
      ],
      "execution_count": 24,
      "outputs": [
        {
          "output_type": "stream",
          "text": [
            "----------------------------------------------------------\n"
          ],
          "name": "stdout"
        },
        {
          "output_type": "stream",
          "text": [
            "\n",
            "Failed initializing MeCab. Please see the README for possible solutions:\n",
            "\n",
            "    https://github.com/SamuraiT/mecab-python3#common-issues\n",
            "\n",
            "If you are still having trouble, please file an issue here, and include the\n",
            "ERROR DETAILS below:\n",
            "\n",
            "    https://github.com/SamuraiT/mecab-python3/issues\n",
            "\n",
            "issueを英語で書く必要はありません。\n",
            "\n",
            "------------------- ERROR DETAILS ------------------------\n",
            "arguments: -d usr/lib/x86 64-linux-gnu/mecab/dic/mecab-ipadic-neologd\n",
            "error message: [ifs] no such file or directory: /usr/local/etc/mecabrc\n"
          ],
          "name": "stderr"
        },
        {
          "output_type": "error",
          "ename": "RuntimeError",
          "evalue": "ignored",
          "traceback": [
            "\u001b[0;31m---------------------------------------------------------------------------\u001b[0m",
            "\u001b[0;31mRuntimeError\u001b[0m                              Traceback (most recent call last)",
            "\u001b[0;32m<ipython-input-24-9ed32fb1ccc5>\u001b[0m in \u001b[0;36m<module>\u001b[0;34m()\u001b[0m\n\u001b[1;32m      1\u001b[0m \u001b[0;32mimport\u001b[0m \u001b[0mMeCab\u001b[0m\u001b[0;34m\u001b[0m\u001b[0;34m\u001b[0m\u001b[0m\n\u001b[1;32m      2\u001b[0m \u001b[0mpath_neologd\u001b[0m \u001b[0;34m=\u001b[0m \u001b[0;34m\"usr/lib/x86 64-linux-gnu/mecab/dic/mecab-ipadic-neologd\"\u001b[0m\u001b[0;34m\u001b[0m\u001b[0;34m\u001b[0m\u001b[0m\n\u001b[0;32m----> 3\u001b[0;31m \u001b[0mtagger\u001b[0m \u001b[0;34m=\u001b[0m \u001b[0mMeCab\u001b[0m\u001b[0;34m.\u001b[0m\u001b[0mTagger\u001b[0m\u001b[0;34m(\u001b[0m\u001b[0;34m\"-d \"\u001b[0m\u001b[0;34m+\u001b[0m \u001b[0mpath_neologd\u001b[0m\u001b[0;34m)\u001b[0m\u001b[0;34m\u001b[0m\u001b[0;34m\u001b[0m\u001b[0m\n\u001b[0m",
            "\u001b[0;32m/usr/local/lib/python3.6/dist-packages/MeCab/__init__.py\u001b[0m in \u001b[0;36m__init__\u001b[0;34m(self, rawargs)\u001b[0m\n\u001b[1;32m    122\u001b[0m \u001b[0;34m\u001b[0m\u001b[0m\n\u001b[1;32m    123\u001b[0m         \u001b[0;32mtry\u001b[0m\u001b[0;34m:\u001b[0m\u001b[0;34m\u001b[0m\u001b[0;34m\u001b[0m\u001b[0m\n\u001b[0;32m--> 124\u001b[0;31m             \u001b[0msuper\u001b[0m\u001b[0;34m(\u001b[0m\u001b[0mTagger\u001b[0m\u001b[0;34m,\u001b[0m \u001b[0mself\u001b[0m\u001b[0;34m)\u001b[0m\u001b[0;34m.\u001b[0m\u001b[0m__init__\u001b[0m\u001b[0;34m(\u001b[0m\u001b[0margs\u001b[0m\u001b[0;34m)\u001b[0m\u001b[0;34m\u001b[0m\u001b[0;34m\u001b[0m\u001b[0m\n\u001b[0m\u001b[1;32m    125\u001b[0m         \u001b[0;32mexcept\u001b[0m \u001b[0mRuntimeError\u001b[0m\u001b[0;34m:\u001b[0m\u001b[0;34m\u001b[0m\u001b[0;34m\u001b[0m\u001b[0m\n\u001b[1;32m    126\u001b[0m             \u001b[0merror_info\u001b[0m\u001b[0;34m(\u001b[0m\u001b[0mrawargs\u001b[0m\u001b[0;34m)\u001b[0m\u001b[0;34m\u001b[0m\u001b[0;34m\u001b[0m\u001b[0m\n",
            "\u001b[0;31mRuntimeError\u001b[0m: "
          ]
        }
      ]
    },
    {
      "cell_type": "code",
      "metadata": {
        "id": "pbvnjrQkTD6q"
      },
      "source": [
        "def print_emargency(text):\r\n",
        "  print( \"target String: \", text, word )\r\n",
        "  node = tagger.parseToNode( text )\r\n",
        "  while node is not None:\r\n",
        "    fields = node.feature.split(\",\")\r\n",
        "    if fields[0] == '名詞' or fields[0] == '動詞' or fields[0] == '形容詞':\r\n",
        "      print( model.wv.similarity( node.surface, '至急' ), node.surface )\r\n",
        "    node = node.next"
      ],
      "execution_count": 26,
      "outputs": []
    },
    {
      "cell_type": "code",
      "metadata": {
        "colab": {
          "base_uri": "https://localhost:8080/",
          "height": 321
        },
        "id": "tkWCgts8VO7T",
        "outputId": "0a5a6605-affd-4e80-a90d-a81f531ab75f"
      },
      "source": [
        "print_emargency(\"PCが起動しなくなりました。急いでいます。\")\r\n",
        "print_emargency(\"使い方がよくわかりません\")"
      ],
      "execution_count": 27,
      "outputs": [
        {
          "output_type": "stream",
          "text": [
            "target String:  PCが起動しなくなりました。急いでいます。\n"
          ],
          "name": "stdout"
        },
        {
          "output_type": "error",
          "ename": "NameError",
          "evalue": "ignored",
          "traceback": [
            "\u001b[0;31m---------------------------------------------------------------------------\u001b[0m",
            "\u001b[0;31mNameError\u001b[0m                                 Traceback (most recent call last)",
            "\u001b[0;32m<ipython-input-27-05850f529242>\u001b[0m in \u001b[0;36m<module>\u001b[0;34m()\u001b[0m\n\u001b[0;32m----> 1\u001b[0;31m \u001b[0mprint_emargency\u001b[0m\u001b[0;34m(\u001b[0m\u001b[0;34m\"PCが起動しなくなりました。急いでいます。\"\u001b[0m\u001b[0;34m)\u001b[0m\u001b[0;34m\u001b[0m\u001b[0;34m\u001b[0m\u001b[0m\n\u001b[0m\u001b[1;32m      2\u001b[0m \u001b[0mprint_emargency\u001b[0m\u001b[0;34m(\u001b[0m\u001b[0;34m\"使い方がよくわかりません\"\u001b[0m\u001b[0;34m)\u001b[0m\u001b[0;34m\u001b[0m\u001b[0;34m\u001b[0m\u001b[0m\n",
            "\u001b[0;32m<ipython-input-26-52e911f2e7ac>\u001b[0m in \u001b[0;36mprint_emargency\u001b[0;34m(text)\u001b[0m\n\u001b[1;32m      1\u001b[0m \u001b[0;32mdef\u001b[0m \u001b[0mprint_emargency\u001b[0m\u001b[0;34m(\u001b[0m\u001b[0mtext\u001b[0m\u001b[0;34m)\u001b[0m\u001b[0;34m:\u001b[0m\u001b[0;34m\u001b[0m\u001b[0;34m\u001b[0m\u001b[0m\n\u001b[1;32m      2\u001b[0m   \u001b[0mprint\u001b[0m\u001b[0;34m(\u001b[0m \u001b[0;34m\"target String: \"\u001b[0m\u001b[0;34m,\u001b[0m \u001b[0mtext\u001b[0m \u001b[0;34m)\u001b[0m\u001b[0;34m\u001b[0m\u001b[0;34m\u001b[0m\u001b[0m\n\u001b[0;32m----> 3\u001b[0;31m   \u001b[0mnode\u001b[0m \u001b[0;34m=\u001b[0m \u001b[0mtagger\u001b[0m\u001b[0;34m.\u001b[0m\u001b[0mparseToNode\u001b[0m\u001b[0;34m(\u001b[0m \u001b[0mtext\u001b[0m \u001b[0;34m)\u001b[0m\u001b[0;34m\u001b[0m\u001b[0;34m\u001b[0m\u001b[0m\n\u001b[0m\u001b[1;32m      4\u001b[0m   \u001b[0;32mwhile\u001b[0m \u001b[0mnode\u001b[0m \u001b[0;32mis\u001b[0m \u001b[0;32mnot\u001b[0m \u001b[0;32mNone\u001b[0m\u001b[0;34m:\u001b[0m\u001b[0;34m\u001b[0m\u001b[0;34m\u001b[0m\u001b[0m\n\u001b[1;32m      5\u001b[0m     \u001b[0mfields\u001b[0m \u001b[0;34m=\u001b[0m \u001b[0mnode\u001b[0m\u001b[0;34m.\u001b[0m\u001b[0mfeature\u001b[0m\u001b[0;34m.\u001b[0m\u001b[0msplit\u001b[0m\u001b[0;34m(\u001b[0m\u001b[0;34m\",\"\u001b[0m\u001b[0;34m)\u001b[0m\u001b[0;34m\u001b[0m\u001b[0;34m\u001b[0m\u001b[0m\n",
            "\u001b[0;31mNameError\u001b[0m: name 'tagger' is not defined"
          ]
        }
      ]
    }
  ]
}