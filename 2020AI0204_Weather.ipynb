{
  "nbformat": 4,
  "nbformat_minor": 0,
  "metadata": {
    "colab": {
      "name": "2020AI0204-Weather.ipynb",
      "provenance": [],
      "authorship_tag": "ABX9TyMjoGmqo6WM+vUpEz8hjMIx",
      "include_colab_link": true
    },
    "kernelspec": {
      "name": "python3",
      "display_name": "Python 3"
    }
  },
  "cells": [
    {
      "cell_type": "markdown",
      "metadata": {
        "id": "view-in-github",
        "colab_type": "text"
      },
      "source": [
        "<a href=\"https://colab.research.google.com/github/aso2001054/AI_teach2020/blob/master/2020AI0204_Weather.ipynb\" target=\"_parent\"><img src=\"https://colab.research.google.com/assets/colab-badge.svg\" alt=\"Open In Colab\"/></a>"
      ]
    },
    {
      "cell_type": "code",
      "metadata": {
        "id": "xDM6gG3FZKRJ",
        "outputId": "894a84c5-828e-4613-cb14-3c3293532e89",
        "colab": {
          "base_uri": "https://localhost:8080/",
          "height": 34
        }
      },
      "source": [
        "import urllib.request as req\n",
        "import pandas as pd\n",
        "url =\"https://raw.githubusercontent.com/masatokg/JapaneseMeteorologicalAgencySample/master/data_Fukoka.csv\"\n",
        "savefile = \"kion20y.csv\"\n",
        "req.urlretrieve(url, savefile)\n",
        "print(\"保存しました\")\n",
        "df = pd.read_csv(savefile, encoding=\"utf-8\")"
      ],
      "execution_count": null,
      "outputs": [
        {
          "output_type": "stream",
          "text": [
            "保存しました\n"
          ],
          "name": "stdout"
        }
      ]
    },
    {
      "cell_type": "code",
      "metadata": {
        "id": "LJHY51DCbMag",
        "outputId": "d1720399-a0df-4840-88d2-510aaf44b3ca",
        "colab": {
          "base_uri": "https://localhost:8080/",
          "height": 204
        }
      },
      "source": [
        "df.head()"
      ],
      "execution_count": null,
      "outputs": [
        {
          "output_type": "execute_result",
          "data": {
            "text/html": [
              "<div>\n",
              "<style scoped>\n",
              "    .dataframe tbody tr th:only-of-type {\n",
              "        vertical-align: middle;\n",
              "    }\n",
              "\n",
              "    .dataframe tbody tr th {\n",
              "        vertical-align: top;\n",
              "    }\n",
              "\n",
              "    .dataframe thead th {\n",
              "        text-align: right;\n",
              "    }\n",
              "</style>\n",
              "<table border=\"1\" class=\"dataframe\">\n",
              "  <thead>\n",
              "    <tr style=\"text-align: right;\">\n",
              "      <th></th>\n",
              "      <th>年</th>\n",
              "      <th>月</th>\n",
              "      <th>日</th>\n",
              "      <th>気温</th>\n",
              "      <th>品質</th>\n",
              "      <th>均質</th>\n",
              "    </tr>\n",
              "  </thead>\n",
              "  <tbody>\n",
              "    <tr>\n",
              "      <th>0</th>\n",
              "      <td>1998</td>\n",
              "      <td>1</td>\n",
              "      <td>1</td>\n",
              "      <td>7.9</td>\n",
              "      <td>8</td>\n",
              "      <td>1</td>\n",
              "    </tr>\n",
              "    <tr>\n",
              "      <th>1</th>\n",
              "      <td>1998</td>\n",
              "      <td>1</td>\n",
              "      <td>2</td>\n",
              "      <td>8.7</td>\n",
              "      <td>8</td>\n",
              "      <td>1</td>\n",
              "    </tr>\n",
              "    <tr>\n",
              "      <th>2</th>\n",
              "      <td>1998</td>\n",
              "      <td>1</td>\n",
              "      <td>3</td>\n",
              "      <td>9.7</td>\n",
              "      <td>8</td>\n",
              "      <td>1</td>\n",
              "    </tr>\n",
              "    <tr>\n",
              "      <th>3</th>\n",
              "      <td>1998</td>\n",
              "      <td>1</td>\n",
              "      <td>4</td>\n",
              "      <td>8.5</td>\n",
              "      <td>8</td>\n",
              "      <td>1</td>\n",
              "    </tr>\n",
              "    <tr>\n",
              "      <th>4</th>\n",
              "      <td>1998</td>\n",
              "      <td>1</td>\n",
              "      <td>5</td>\n",
              "      <td>6.3</td>\n",
              "      <td>8</td>\n",
              "      <td>1</td>\n",
              "    </tr>\n",
              "  </tbody>\n",
              "</table>\n",
              "</div>"
            ],
            "text/plain": [
              "      年  月  日   気温  品質  均質\n",
              "0  1998  1  1  7.9   8   1\n",
              "1  1998  1  2  8.7   8   1\n",
              "2  1998  1  3  9.7   8   1\n",
              "3  1998  1  4  8.5   8   1\n",
              "4  1998  1  5  6.3   8   1"
            ]
          },
          "metadata": {
            "tags": []
          },
          "execution_count": 2
        }
      ]
    },
    {
      "cell_type": "code",
      "metadata": {
        "id": "5BrQBUPibUnw"
      },
      "source": [
        "import pandas as pd\n"
      ],
      "execution_count": null,
      "outputs": []
    },
    {
      "cell_type": "code",
      "metadata": {
        "id": "YnW5HN9BeRs9"
      },
      "source": [
        "df = pd.read_csv(\"kion20y.csv\", encoding=\"utf-8\")"
      ],
      "execution_count": null,
      "outputs": []
    },
    {
      "cell_type": "code",
      "metadata": {
        "id": "FVRjKbxE75Ty"
      },
      "source": [
        "md = {}\n",
        "for i, row in df.iterrows():\n",
        "  m, d, v = (int(row['月']), int(row['日']), float(row['気温']))\n",
        "  key = str(m) + \"/\" + str(d)\n",
        "  if not(key in md): md[key] = []\n",
        "  md[key] += [v]"
      ],
      "execution_count": null,
      "outputs": []
    },
    {
      "cell_type": "code",
      "metadata": {
        "id": "-tOAwvva9yWw",
        "outputId": "8dc0a5da-5bf3-4eb7-9d8b-c1315e14bfe1",
        "colab": {
          "base_uri": "https://localhost:8080/",
          "height": 1000
        }
      },
      "source": [
        "avs = {}\n",
        "for key in md:\n",
        "  v = avs[key] = sum(md[key]) / len(md[key])\n",
        "  print(\"{0} : {1}\".format(key, v))"
      ],
      "execution_count": null,
      "outputs": [
        {
          "output_type": "stream",
          "text": [
            "1/1 : 6.671428571428573\n",
            "1/2 : 7.323809523809523\n",
            "1/3 : 7.457142857142857\n",
            "1/4 : 7.242857142857143\n",
            "1/5 : 7.019047619047619\n",
            "1/6 : 7.299999999999998\n",
            "1/7 : 7.085714285714286\n",
            "1/8 : 7.323809523809524\n",
            "1/9 : 6.919047619047621\n",
            "1/10 : 6.699999999999999\n",
            "1/11 : 6.938095238095239\n",
            "1/12 : 6.519047619047621\n",
            "1/13 : 6.6380952380952385\n",
            "1/14 : 6.495238095238095\n",
            "1/15 : 6.333333333333333\n",
            "1/16 : 6.742857142857144\n",
            "1/17 : 7.014285714285716\n",
            "1/18 : 7.2571428571428545\n",
            "1/19 : 7.052380952380953\n",
            "1/20 : 7.057142857142857\n",
            "1/21 : 6.561904761904761\n",
            "1/22 : 6.157142857142857\n",
            "1/23 : 5.98095238095238\n",
            "1/24 : 5.0095238095238095\n",
            "1/25 : 5.719047619047619\n",
            "1/26 : 6.161904761904762\n",
            "1/27 : 6.33809523809524\n",
            "1/28 : 6.466666666666666\n",
            "1/29 : 6.604761904761905\n",
            "1/30 : 7.057142857142857\n",
            "1/31 : 6.947619047619048\n",
            "2/1 : 7.114285714285715\n",
            "2/2 : 6.733333333333333\n",
            "2/3 : 6.185714285714285\n",
            "2/4 : 6.366666666666669\n",
            "2/5 : 6.499999999999998\n",
            "2/6 : 6.714285714285714\n",
            "2/7 : 6.861904761904761\n",
            "2/8 : 6.8428571428571425\n",
            "2/9 : 7.385714285714287\n",
            "2/10 : 7.304761904761904\n",
            "2/11 : 7.242857142857141\n",
            "2/12 : 7.276190476190477\n",
            "2/13 : 7.519047619047619\n",
            "2/14 : 8.142857142857142\n",
            "2/15 : 7.723809523809525\n",
            "2/16 : 7.738095238095238\n",
            "2/17 : 7.966666666666667\n",
            "2/18 : 7.414285714285714\n",
            "2/19 : 7.461904761904763\n",
            "2/20 : 8.166666666666668\n",
            "2/21 : 8.304761904761905\n",
            "2/22 : 9.352380952380951\n",
            "2/23 : 9.69047619047619\n",
            "2/24 : 9.30952380952381\n",
            "2/25 : 9.49047619047619\n",
            "2/26 : 9.22857142857143\n",
            "2/27 : 9.323809523809526\n",
            "2/28 : 9.523809523809524\n",
            "3/1 : 9.41904761904762\n",
            "3/2 : 9.28095238095238\n",
            "3/3 : 9.552380952380952\n",
            "3/4 : 9.533333333333335\n",
            "3/5 : 9.92857142857143\n",
            "3/6 : 9.685714285714285\n",
            "3/7 : 9.142857142857142\n",
            "3/8 : 9.114285714285716\n",
            "3/9 : 9.371428571428574\n",
            "3/10 : 9.599999999999998\n",
            "3/11 : 9.523809523809524\n",
            "3/12 : 9.585714285714285\n",
            "3/13 : 10.352380952380951\n",
            "3/14 : 10.533333333333335\n",
            "3/15 : 10.87142857142857\n",
            "3/16 : 11.285714285714285\n",
            "3/17 : 12.352380952380951\n",
            "3/18 : 12.890476190476189\n",
            "3/19 : 12.595238095238095\n",
            "3/20 : 11.661904761904761\n",
            "3/21 : 11.052380952380952\n",
            "3/22 : 11.042857142857144\n",
            "3/23 : 11.328571428571431\n",
            "3/24 : 11.400000000000002\n",
            "3/25 : 11.357142857142858\n",
            "3/26 : 11.86190476190476\n",
            "3/27 : 12.004761904761903\n",
            "3/28 : 12.895238095238096\n",
            "3/29 : 12.938095238095238\n",
            "3/30 : 13.0\n",
            "3/31 : 13.304761904761904\n",
            "4/1 : 13.890476190476189\n",
            "4/2 : 14.295238095238094\n",
            "4/3 : 13.671428571428569\n",
            "4/4 : 12.757142857142856\n",
            "4/5 : 14.004761904761907\n",
            "4/6 : 14.533333333333333\n",
            "4/7 : 14.404761904761905\n",
            "4/8 : 14.561904761904762\n",
            "4/9 : 15.161904761904761\n",
            "4/10 : 15.395238095238096\n",
            "4/11 : 15.080952380952382\n",
            "4/12 : 15.51904761904762\n",
            "4/13 : 15.380952380952383\n",
            "4/14 : 15.414285714285715\n",
            "4/15 : 15.514285714285712\n",
            "4/16 : 16.41904761904762\n",
            "4/17 : 16.109523809523807\n",
            "4/18 : 16.061904761904763\n",
            "4/19 : 16.40952380952381\n",
            "4/20 : 15.99047619047619\n",
            "4/21 : 16.61904761904762\n",
            "4/22 : 17.17142857142857\n",
            "4/23 : 16.842857142857145\n",
            "4/24 : 16.504761904761907\n",
            "4/25 : 16.43333333333333\n",
            "4/26 : 16.461904761904762\n",
            "4/27 : 16.76666666666667\n",
            "4/28 : 17.12857142857143\n",
            "4/29 : 18.52857142857143\n",
            "4/30 : 18.699999999999996\n",
            "5/1 : 19.052380952380954\n",
            "5/2 : 18.723809523809525\n",
            "5/3 : 18.32857142857143\n",
            "5/4 : 18.67142857142857\n",
            "5/5 : 19.514285714285712\n",
            "5/6 : 19.576190476190476\n",
            "5/7 : 19.609523809523807\n",
            "5/8 : 19.290476190476195\n",
            "5/9 : 19.280952380952378\n",
            "5/10 : 18.47142857142857\n",
            "5/11 : 18.742857142857144\n",
            "5/12 : 19.104761904761908\n",
            "5/13 : 19.138095238095236\n",
            "5/14 : 19.50952380952381\n",
            "5/15 : 19.723809523809525\n",
            "5/16 : 19.785714285714285\n",
            "5/17 : 20.1952380952381\n",
            "5/18 : 20.561904761904763\n",
            "5/19 : 20.161904761904765\n",
            "5/20 : 20.161904761904765\n",
            "5/21 : 20.852380952380955\n",
            "5/22 : 21.40952380952381\n",
            "5/23 : 21.2952380952381\n",
            "5/24 : 21.290476190476188\n",
            "5/25 : 21.18095238095238\n",
            "5/26 : 21.214285714285715\n",
            "5/27 : 21.58095238095238\n",
            "5/28 : 21.666666666666664\n",
            "5/29 : 21.866666666666664\n",
            "5/30 : 21.40952380952381\n",
            "5/31 : 21.000000000000004\n",
            "6/1 : 21.64761904761905\n",
            "6/2 : 21.571428571428573\n",
            "6/3 : 21.738095238095237\n",
            "6/4 : 22.357142857142854\n",
            "6/5 : 21.85714285714286\n",
            "6/6 : 22.05238095238095\n",
            "6/7 : 22.209523809523805\n",
            "6/8 : 22.442857142857143\n",
            "6/9 : 22.27142857142857\n",
            "6/10 : 22.895238095238103\n",
            "6/11 : 22.947619047619053\n",
            "6/12 : 23.185714285714283\n",
            "6/13 : 23.028571428571425\n",
            "6/14 : 22.97142857142857\n",
            "6/15 : 22.9047619047619\n",
            "6/16 : 23.166666666666668\n",
            "6/17 : 23.59523809523809\n",
            "6/18 : 23.63333333333333\n",
            "6/19 : 24.171428571428574\n",
            "6/20 : 24.266666666666666\n",
            "6/21 : 24.085714285714282\n",
            "6/22 : 24.123809523809523\n",
            "6/23 : 23.885714285714286\n",
            "6/24 : 24.261904761904763\n",
            "6/25 : 24.280952380952378\n",
            "6/26 : 24.814285714285717\n",
            "6/27 : 24.757142857142856\n",
            "6/28 : 25.2047619047619\n",
            "6/29 : 25.41428571428571\n",
            "6/30 : 25.719047619047615\n",
            "7/1 : 26.200000000000003\n",
            "7/2 : 26.795238095238098\n",
            "7/3 : 26.947619047619046\n",
            "7/4 : 26.423809523809528\n",
            "7/5 : 26.176190476190474\n",
            "7/6 : 25.68095238095238\n",
            "7/7 : 26.223809523809532\n",
            "7/8 : 26.55714285714286\n",
            "7/9 : 27.176190476190477\n",
            "7/10 : 27.342857142857145\n",
            "7/11 : 27.385714285714286\n",
            "7/12 : 27.342857142857138\n",
            "7/13 : 27.557142857142853\n",
            "7/14 : 27.566666666666666\n",
            "7/15 : 27.461904761904766\n",
            "7/16 : 27.685714285714283\n",
            "7/17 : 27.780952380952378\n",
            "7/18 : 28.023809523809526\n",
            "7/19 : 28.157142857142862\n",
            "7/20 : 28.276190476190475\n",
            "7/21 : 28.233333333333338\n",
            "7/22 : 28.17142857142857\n",
            "7/23 : 28.4\n",
            "7/24 : 28.22857142857144\n",
            "7/25 : 28.719047619047622\n",
            "7/26 : 28.69047619047619\n",
            "7/27 : 28.58095238095238\n",
            "7/28 : 28.942857142857147\n",
            "7/29 : 28.900000000000006\n",
            "7/30 : 28.88095238095238\n",
            "7/31 : 29.009523809523806\n",
            "8/1 : 29.10476190476191\n",
            "8/2 : 29.109523809523814\n",
            "8/3 : 29.461904761904755\n",
            "8/4 : 29.561904761904763\n",
            "8/5 : 29.438095238095237\n",
            "8/6 : 29.41904761904762\n",
            "8/7 : 29.671428571428567\n",
            "8/8 : 29.404761904761905\n",
            "8/9 : 29.280952380952375\n",
            "8/10 : 28.966666666666658\n",
            "8/11 : 29.047619047619055\n",
            "8/12 : 29.157142857142862\n",
            "8/13 : 28.980952380952377\n",
            "8/14 : 28.757142857142856\n",
            "8/15 : 28.885714285714283\n",
            "8/16 : 28.94285714285714\n",
            "8/17 : 28.557142857142864\n",
            "8/18 : 28.73333333333333\n",
            "8/19 : 28.595238095238102\n",
            "8/20 : 28.214285714285715\n",
            "8/21 : 28.385714285714283\n",
            "8/22 : 28.199999999999992\n",
            "8/23 : 28.05714285714286\n",
            "8/24 : 27.914285714285718\n",
            "8/25 : 27.90476190476191\n",
            "8/26 : 27.56666666666667\n",
            "8/27 : 27.790476190476188\n",
            "8/28 : 27.62380952380953\n",
            "8/29 : 27.395238095238092\n",
            "8/30 : 26.73333333333333\n",
            "8/31 : 26.861904761904764\n",
            "9/1 : 26.514285714285705\n",
            "9/2 : 26.609523809523807\n",
            "9/3 : 26.25238095238095\n",
            "9/4 : 26.423809523809528\n",
            "9/5 : 26.219047619047615\n",
            "9/6 : 26.09047619047619\n",
            "9/7 : 25.93333333333333\n",
            "9/8 : 25.73333333333333\n",
            "9/9 : 25.795238095238098\n",
            "9/10 : 25.385714285714286\n",
            "9/11 : 26.085714285714282\n",
            "9/12 : 25.70476190476191\n",
            "9/13 : 25.700000000000003\n",
            "9/14 : 25.676190476190474\n",
            "9/15 : 25.461904761904766\n",
            "9/16 : 24.904761904761905\n",
            "9/17 : 24.98095238095238\n",
            "9/18 : 24.81428571428572\n",
            "9/19 : 24.81904761904762\n",
            "9/20 : 24.714285714285715\n",
            "9/21 : 24.40952380952381\n",
            "9/22 : 23.838095238095235\n",
            "9/23 : 23.51904761904762\n",
            "9/24 : 23.32857142857143\n",
            "9/25 : 23.55714285714286\n",
            "9/26 : 23.557142857142857\n",
            "9/27 : 23.357142857142854\n",
            "9/28 : 23.28571428571428\n",
            "9/29 : 22.49047619047619\n",
            "9/30 : 22.528571428571425\n",
            "10/1 : 22.880952380952383\n",
            "10/2 : 22.40952380952381\n",
            "10/3 : 22.19047619047619\n",
            "10/4 : 22.02857142857143\n",
            "10/5 : 21.604761904761908\n",
            "10/6 : 21.719047619047615\n",
            "10/7 : 21.78571428571429\n",
            "10/8 : 21.361904761904764\n",
            "10/9 : 21.052380952380958\n",
            "10/10 : 21.52380952380953\n",
            "10/11 : 21.576190476190476\n",
            "10/12 : 21.190476190476186\n",
            "10/13 : 20.685714285714283\n",
            "10/14 : 20.38095238095238\n",
            "10/15 : 19.742857142857144\n",
            "10/16 : 19.1047619047619\n",
            "10/17 : 19.004761904761907\n",
            "10/18 : 19.261904761904766\n",
            "10/19 : 19.066666666666666\n",
            "10/20 : 19.252380952380953\n",
            "10/21 : 19.161904761904765\n",
            "10/22 : 19.166666666666668\n",
            "10/23 : 18.585714285714285\n",
            "10/24 : 18.404761904761905\n",
            "10/25 : 18.40952380952381\n",
            "10/26 : 17.96666666666667\n",
            "10/27 : 17.690476190476186\n",
            "10/28 : 17.352380952380948\n",
            "10/29 : 17.44761904761905\n",
            "10/30 : 16.90952380952381\n",
            "10/31 : 16.719047619047622\n",
            "11/1 : 16.871428571428574\n",
            "11/2 : 16.361904761904764\n",
            "11/3 : 15.928571428571425\n",
            "11/4 : 15.914285714285716\n",
            "11/5 : 16.342857142857138\n",
            "11/6 : 16.895238095238092\n",
            "11/7 : 17.085714285714282\n",
            "11/8 : 16.590476190476192\n",
            "11/9 : 16.16190476190476\n",
            "11/10 : 15.804761904761904\n",
            "11/11 : 15.542857142857141\n",
            "11/12 : 15.014285714285712\n",
            "11/13 : 14.36666666666667\n",
            "11/14 : 14.900000000000002\n",
            "11/15 : 14.47142857142857\n",
            "11/16 : 13.72857142857143\n",
            "11/17 : 13.21904761904762\n",
            "11/18 : 12.452380952380953\n",
            "11/19 : 12.44761904761905\n",
            "11/20 : 12.785714285714283\n",
            "11/21 : 12.352380952380955\n",
            "11/22 : 12.352380952380951\n",
            "11/23 : 12.347619047619045\n",
            "11/24 : 12.385714285714286\n",
            "11/25 : 12.814285714285715\n",
            "11/26 : 12.171428571428569\n",
            "11/27 : 12.161904761904761\n",
            "11/28 : 12.55238095238095\n",
            "11/29 : 11.985714285714286\n",
            "11/30 : 11.928571428571429\n",
            "12/1 : 11.4\n",
            "12/2 : 11.38095238095238\n",
            "12/3 : 11.652380952380952\n",
            "12/4 : 11.39047619047619\n",
            "12/5 : 10.519047619047619\n",
            "12/6 : 9.885714285714288\n",
            "12/7 : 9.238095238095239\n",
            "12/8 : 9.261904761904761\n",
            "12/9 : 9.342857142857143\n",
            "12/10 : 9.75238095238095\n",
            "12/11 : 9.84761904761905\n",
            "12/12 : 9.028571428571428\n",
            "12/13 : 9.180952380952382\n",
            "12/14 : 9.171428571428573\n",
            "12/15 : 9.095238095238095\n",
            "12/16 : 8.690476190476192\n",
            "12/17 : 7.923809523809522\n",
            "12/18 : 7.614285714285715\n",
            "12/19 : 8.314285714285715\n",
            "12/20 : 8.72857142857143\n",
            "12/21 : 8.966666666666669\n",
            "12/22 : 9.066666666666666\n",
            "12/23 : 8.676190476190476\n",
            "12/24 : 8.428571428571429\n",
            "12/25 : 8.195238095238096\n",
            "12/26 : 7.71904761904762\n",
            "12/27 : 7.376190476190475\n",
            "12/28 : 7.04761904761905\n",
            "12/29 : 7.514285714285713\n",
            "12/30 : 7.152380952380952\n",
            "12/31 : 6.566666666666667\n",
            "2/29 : 8.18\n"
          ],
          "name": "stdout"
        }
      ]
    },
    {
      "cell_type": "code",
      "metadata": {
        "id": "nBgFw5G6mxoI"
      },
      "source": [
        "import matplotlib.pyplot as plt\n",
        "import pandas as pd"
      ],
      "execution_count": null,
      "outputs": []
    },
    {
      "cell_type": "code",
      "metadata": {
        "id": "MtvU5q0XoBX8"
      },
      "source": [
        "df = pd.read_csv(\"kion20y.csv\", encoding=\"utf-8\")"
      ],
      "execution_count": null,
      "outputs": []
    },
    {
      "cell_type": "code",
      "metadata": {
        "id": "h2IDFe4IoNHF"
      },
      "source": [
        "g = df.groupby(['月'])[\"気温\"]\n",
        "gg = g.sum() / g.count()"
      ],
      "execution_count": null,
      "outputs": []
    },
    {
      "cell_type": "code",
      "metadata": {
        "id": "utelQVI8ojIe",
        "outputId": "1b2a57b7-c2a5-49ab-89f7-1b24b1766593",
        "colab": {
          "base_uri": "https://localhost:8080/",
          "height": 585
        }
      },
      "source": [
        "print(gg)\n",
        "gg.plot()\n",
        "plt.savefig(\"tenki-heikin-tuki.png\")\n",
        "plt.show()"
      ],
      "execution_count": null,
      "outputs": [
        {
          "output_type": "stream",
          "text": [
            "月\n",
            "1      6.712750\n",
            "2      7.820405\n",
            "3     10.918280\n",
            "4     15.724444\n",
            "5     20.076498\n",
            "6     23.382063\n",
            "7     27.661905\n",
            "8     28.571736\n",
            "9     24.923016\n",
            "10    19.859293\n",
            "11    14.197937\n",
            "12     8.971889\n",
            "Name: 気温, dtype: float64\n"
          ],
          "name": "stdout"
        },
        {
          "output_type": "stream",
          "text": [
            "/usr/local/lib/python3.6/dist-packages/matplotlib/backends/backend_agg.py:214: RuntimeWarning: Glyph 26376 missing from current font.\n",
            "  font.set_text(s, 0.0, flags=flags)\n",
            "/usr/local/lib/python3.6/dist-packages/matplotlib/backends/backend_agg.py:183: RuntimeWarning: Glyph 26376 missing from current font.\n",
            "  font.set_text(s, 0, flags=flags)\n"
          ],
          "name": "stderr"
        },
        {
          "output_type": "display_data",
          "data": {
            "image/png": "[encoded data removed]",
            "text/plain": [
              "<Figure size 432x288 with 1 Axes>"
            ]
          },
          "metadata": {
            "tags": [],
            "needs_background": "light"
          }
        }
      ]
    },
    {
      "cell_type": "code",
      "metadata": {
        "id": "XgEfDYqSoySF"
      },
      "source": [
        "import matplotlib.pyplot as plt\n",
        "import pandas as pd"
      ],
      "execution_count": null,
      "outputs": []
    },
    {
      "cell_type": "code",
      "metadata": {
        "id": "qy-i_6oQqF7k"
      },
      "source": [
        "df = pd.read_csv(\"kion20y.csv\", encoding=\"utf-8\")"
      ],
      "execution_count": null,
      "outputs": []
    },
    {
      "cell_type": "code",
      "metadata": {
        "id": "-IG0VNwPqQ3l"
      },
      "source": [
        "atui_bool = (df[\"気温\"] > 30)"
      ],
      "execution_count": null,
      "outputs": []
    },
    {
      "cell_type": "code",
      "metadata": {
        "id": "RIXezUeSqel0"
      },
      "source": [
        "atui = df[atui_bool]"
      ],
      "execution_count": null,
      "outputs": []
    },
    {
      "cell_type": "code",
      "metadata": {
        "id": "MVM0e2J-qjvj"
      },
      "source": [
        "cnt = atui.groupby([\"年\"])[\"年\"].count()"
      ],
      "execution_count": null,
      "outputs": []
    },
    {
      "cell_type": "code",
      "metadata": {
        "id": "eA-evW_yq4Fs",
        "outputId": "5de2b8ad-39c8-4d1b-c62e-087ff81a96e5",
        "colab": {
          "base_uri": "https://localhost:8080/",
          "height": 721
        }
      },
      "source": [
        "print(cnt)\n",
        "cnt.plot()\n",
        "plt.savefig(\"tenki-over30.png\")\n",
        "plt.show()"
      ],
      "execution_count": null,
      "outputs": [
        {
          "output_type": "stream",
          "text": [
            "年\n",
            "1998    15\n",
            "1999     3\n",
            "2000     9\n",
            "2001    12\n",
            "2002     6\n",
            "2004    17\n",
            "2005     8\n",
            "2006    14\n",
            "2007    11\n",
            "2008    13\n",
            "2009     7\n",
            "2010    27\n",
            "2011     9\n",
            "2012    15\n",
            "2013    37\n",
            "2014     3\n",
            "2015     4\n",
            "2016    20\n",
            "2017    19\n",
            "2018    23\n",
            "Name: 年, dtype: int64\n"
          ],
          "name": "stdout"
        },
        {
          "output_type": "stream",
          "text": [
            "/usr/local/lib/python3.6/dist-packages/matplotlib/backends/backend_agg.py:214: RuntimeWarning: Glyph 24180 missing from current font.\n",
            "  font.set_text(s, 0.0, flags=flags)\n",
            "/usr/local/lib/python3.6/dist-packages/matplotlib/backends/backend_agg.py:183: RuntimeWarning: Glyph 24180 missing from current font.\n",
            "  font.set_text(s, 0, flags=flags)\n"
          ],
          "name": "stderr"
        },
        {
          "output_type": "display_data",
          "data": {
            "image/png": "[encoded data removed]",
            "text/plain": [
              "<Figure size 432x288 with 1 Axes>"
            ]
          },
          "metadata": {
            "tags": [],
            "needs_background": "light"
          }
        }
      ]
    },
    {
      "cell_type": "code",
      "metadata": {
        "id": "htBBWlKjrHZc"
      },
      "source": [
        "from sklearn.linear_model import LinearRegression\n",
        "import pandas as pd\n",
        "import numpy as np\n",
        "import matplotlib.pyplot as plt"
      ],
      "execution_count": null,
      "outputs": []
    },
    {
      "cell_type": "code",
      "metadata": {
        "id": "XmBEF4sSsyES"
      },
      "source": [
        "df = pd.read_csv('kion20y.csv', encoding=\"utf-8\")"
      ],
      "execution_count": null,
      "outputs": []
    },
    {
      "cell_type": "code",
      "metadata": {
        "id": "Qzi6_n94tAIi"
      },
      "source": [
        "train_year = (df[\"年\"] <= 2015)\n",
        "test_year = (df[\"年\"] >= 2016)\n",
        "interval = 6"
      ],
      "execution_count": null,
      "outputs": []
    },
    {
      "cell_type": "code",
      "metadata": {
        "id": "_bBignNVZt_g"
      },
      "source": [
        "def make_data(data):\n",
        "  x = []\n",
        "  y = []\n",
        "  temps = list(data[\"気温\"])\n",
        "  for i in range(len(temps)):\n",
        "    if i < interval: continue\n",
        "    y.append(temps[i])\n",
        "    xa = []\n",
        "    for p in range(interval):\n",
        "      d = i + p - interval\n",
        "      xa.append(temps[d])\n",
        "    x.append(xa)\n",
        "  return (x, y)\n",
        "train_x, train_y = make_data(df[train_year])\n",
        "test_x, test_y = make_data(df[test_year])"
      ],
      "execution_count": null,
      "outputs": []
    },
    {
      "cell_type": "code",
      "metadata": {
        "id": "Qsng1obZbyAn"
      },
      "source": [
        "lr = LinearRegression(normalize=True)\n",
        "lr.fit(train_x, train_y)\n",
        "pre_y = lr.predict(test_x)"
      ],
      "execution_count": null,
      "outputs": []
    },
    {
      "cell_type": "code",
      "metadata": {
        "id": "L6df5flncvyv",
        "outputId": "290641f2-dc30-4584-8dc9-2d04568b4273",
        "colab": {
          "base_uri": "https://localhost:8080/",
          "height": 513
        }
      },
      "source": [
        "plt.figure(figsize=(10, 6), dpi=100)\n",
        "plt.plot(test_y, c='r')\n",
        "plt.plot(pre_y, c='b')\n",
        "plt.savefig('tenki-kion-lr.png')\n",
        "plt.show()"
      ],
      "execution_count": null,
      "outputs": [
        {
          "output_type": "display_data",
          "data": {
            "image/png": "[encoded data removed]",
            "text/plain": [
              "<Figure size 1000x600 with 1 Axes>"
            ]
          },
          "metadata": {
            "tags": [],
            "needs_background": "light"
          }
        }
      ]
    },
    {
      "cell_type": "code",
      "metadata": {
        "id": "enTUPw_udb9e"
      },
      "source": [
        ""
      ],
      "execution_count": null,
      "outputs": []
    }
  ]
}