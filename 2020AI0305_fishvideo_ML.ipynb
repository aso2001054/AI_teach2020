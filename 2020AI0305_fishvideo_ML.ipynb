{
  "nbformat": 4,
  "nbformat_minor": 0,
  "metadata": {
    "colab": {
      "name": "2020AI0305-fishvideo-ML.ipynb",
      "provenance": [],
      "authorship_tag": "ABX9TyOnrIXrLgh2s66OTrACrbWm",
      "include_colab_link": true
    },
    "kernelspec": {
      "name": "python3",
      "display_name": "Python 3"
    }
  },
  "cells": [
    {
      "cell_type": "markdown",
      "metadata": {
        "id": "view-in-github",
        "colab_type": "text"
      },
      "source": [
        "<a href=\"https://colab.research.google.com/github/aso2001054/AI_teach2020/blob/master/2020AI0305_fishvideo_ML.ipynb\" target=\"_parent\"><img src=\"https://colab.research.google.com/assets/colab-badge.svg\" alt=\"Open In Colab\"/></a>"
      ]
    },
    {
      "cell_type": "code",
      "metadata": {
        "id": "LOAiGJJjEzq3"
      },
      "source": [
        "import urllib.request as req\n",
        "url = \"https://github.com/masatokg/sample_photo/raw/master/fish.zip\"\n",
        "save_file = \"fish.zip\"\n",
        "req.urlretrieve(url, save_file)\n",
        "\n",
        "url = \"https://github.com/masatokg/sample_photo/raw/master/nofish.zip\"\n",
        "save_file = \"nofish.zip\"\n",
        "req.urlretrieve(url, save_file)\n",
        "\n",
        "!unzip -o -q \"./fish.zip\"\n",
        "!unzip -o -q \"./nofish.zip\""
      ],
      "execution_count": 1,
      "outputs": []
    },
    {
      "cell_type": "code",
      "metadata": {
        "id": "CV6Z2HmcuiLu"
      },
      "source": [
        "import cv2\n",
        "import os, glob, pickle\n",
        "from sklearn.model_selection import train_test_split\n",
        "from sklearn import datasets, metrics\n",
        "from sklearn.ensemble import RandomForestClassifier\n",
        "from sklearn.metrics import accuracy_score"
      ],
      "execution_count": 2,
      "outputs": []
    },
    {
      "cell_type": "code",
      "metadata": {
        "colab": {
          "base_uri": "https://localhost:8080/"
        },
        "id": "Q9EkDHzMEbZx",
        "outputId": "102c0330-12df-49c4-9c05-8716b89e38e9"
      },
      "source": [
        "image_size = (64, 32)\n",
        "path = \"/content\"\n",
        "path_fish = path + \"/fish\"\n",
        "path_nofish = \"/nofish\"\n",
        "x = []\n",
        "y = []\n",
        "print(path_fish)\n",
        "print(path_nofish)"
      ],
      "execution_count": 3,
      "outputs": [
        {
          "output_type": "stream",
          "text": [
            "/content/fish\n",
            "/nofish\n"
          ],
          "name": "stdout"
        }
      ]
    },
    {
      "cell_type": "code",
      "metadata": {
        "id": "DBx0Au52H7bk"
      },
      "source": [
        "def read_dir(path, label, x, y, image_size):\n",
        "  files = glob.glob(path + \"/*.jpg\")\n",
        "  print(files)\n",
        "  for f in files:\n",
        "    img = cv2.imread(f)\n",
        "    img = cv2.resize(img, image_size)\n",
        "    img_data = img.reshape(-1,)\n",
        "    x.append(img_data)\n",
        "    y.append(label)"
      ],
      "execution_count": 4,
      "outputs": []
    },
    {
      "cell_type": "code",
      "metadata": {
        "colab": {
          "base_uri": "https://localhost:8080/"
        },
        "id": "gALDeL2lN3kO",
        "outputId": "2c1211d7-5019-4576-f625-c7fcc59651cb"
      },
      "source": [
        "read_dir(path_nofish, 0, x, y, image_size)\n",
        "read_dir(path_fish, 1, x, y, image_size)\n",
        "x_train, x_test, y_train, y_test = train_test_split(x,y,test_size=0.2)\n",
        "\n",
        "clf = RandomForestClassifier()\n",
        "clf.fit(x_train, y_train)\n",
        "\n",
        "y_pred = clf.predict( x_test )\n",
        "print(accuracy_score(y_test, y_pred))\n",
        "\n",
        "with open( \"fish.pkl\", \"wb\") as fp:\n",
        "  pickle.dump(clf, fp)"
      ],
      "execution_count": 5,
      "outputs": [
        {
          "output_type": "stream",
          "text": [
            "[]\n",
            "['/content/fish/2827.jpg', '/content/fish/1326.jpg', '/content/fish/1352.jpg', '/content/fish/223.jpg', '/content/fish/1249.jpg', '/content/fish/1247.jpg', '/content/fish/2853.jpg', '/content/fish/1414.jpg', '/content/fish/2836.jpg', '/content/fish/1165.jpg', '/content/fish/1287.jpg', '/content/fish/3798.jpg', '/content/fish/3816.jpg', '/content/fish/1392.jpg', '/content/fish/274.jpg', '/content/fish/2626.jpg', '/content/fish/1283.jpg', '/content/fish/1944.jpg', '/content/fish/1308.jpg', '/content/fish/2814.jpg', '/content/fish/1231.jpg', '/content/fish/3197.jpg', '/content/fish/1421.jpg', '/content/fish/1988.jpg', '/content/fish/1922.jpg', '/content/fish/373.jpg', '/content/fish/2785.jpg', '/content/fish/1391.jpg', '/content/fish/1438.jpg', '/content/fish/1290.jpg', '/content/fish/3193.jpg', '/content/fish/1946.jpg', '/content/fish/2815.jpg', '/content/fish/4029.jpg', '/content/fish/1318.jpg', '/content/fish/276.jpg', '/content/fish/2634.jpg', '/content/fish/4030.jpg', '/content/fish/1429.jpg', '/content/fish/1980.jpg', '/content/fish/2874.jpg', '/content/fish/248.jpg', '/content/fish/3804.jpg', '/content/fish/1260.jpg', '/content/fish/1254.jpg', '/content/fish/3191.jpg', '/content/fish/1179.jpg', '/content/fish/1436.jpg', '/content/fish/1275.jpg', '/content/fish/170.jpg', '/content/fish/1357.jpg', '/content/fish/2858.jpg', '/content/fish/2047.jpg', '/content/fish/1368.jpg', '/content/fish/1440.jpg', '/content/fish/3965.jpg', '/content/fish/2863.jpg', '/content/fish/1087.jpg', '/content/fish/1551.jpg', '/content/fish/1264.jpg', '/content/fish/1935.jpg', '/content/fish/2588.jpg', '/content/fish/3983.jpg', '/content/fish/3814.jpg', '/content/fish/239.jpg', '/content/fish/1996.jpg', '/content/fish/1245.jpg', '/content/fish/1454.jpg', '/content/fish/268.jpg', '/content/fish/1158.jpg', '/content/fish/1950.jpg', '/content/fish/1225.jpg', '/content/fish/3806.jpg', '/content/fish/3800.jpg', '/content/fish/1177.jpg', '/content/fish/1280.jpg', '/content/fish/1418.jpg', '/content/fish/1974.jpg', '/content/fish/1394.jpg', '/content/fish/1531.jpg', '/content/fish/231.jpg', '/content/fish/3036.jpg', '/content/fish/2623.jpg', '/content/fish/1161.jpg', '/content/fish/1450.jpg', '/content/fish/1984.jpg', '/content/fish/3769.jpg', '/content/fish/1371.jpg', '/content/fish/1443.jpg', '/content/fish/74.jpg', '/content/fish/213.jpg', '/content/fish/2059.jpg', '/content/fish/1991.jpg', '/content/fish/3819.jpg', '/content/fish/3029.jpg', '/content/fish/2595.jpg', '/content/fish/1339.jpg', '/content/fish/1940.jpg', '/content/fish/2850.jpg', '/content/fish/3810.jpg', '/content/fish/1322.jpg', '/content/fish/1330.jpg', '/content/fish/1232.jpg', '/content/fish/1381.jpg', '/content/fish/4014.jpg', '/content/fish/3185.jpg', '/content/fish/1268.jpg', '/content/fish/3950.jpg', '/content/fish/209.jpg', '/content/fish/1191.jpg', '/content/fish/2044.jpg', '/content/fish/1286.jpg', '/content/fish/1435.jpg', '/content/fish/1377.jpg', '/content/fish/2599.jpg', '/content/fish/1346.jpg', '/content/fish/3811.jpg', '/content/fish/228.jpg', '/content/fish/1263.jpg', '/content/fish/1954.jpg', '/content/fish/216.jpg', '/content/fish/1452.jpg', '/content/fish/2631.jpg', '/content/fish/2786.jpg', '/content/fish/3803.jpg', '/content/fish/1969.jpg', '/content/fish/1877.jpg', '/content/fish/3964.jpg', '/content/fish/1395.jpg', '/content/fish/1154.jpg', '/content/fish/3733.jpg', '/content/fish/1951.jpg', '/content/fish/1224.jpg', '/content/fish/2066.jpg', '/content/fish/1949.jpg', '/content/fish/2982.jpg', '/content/fish/3234.jpg', '/content/fish/3030.jpg', '/content/fish/252.jpg', '/content/fish/256.jpg', '/content/fish/2006.jpg', '/content/fish/1411.jpg', '/content/fish/1557.jpg', '/content/fish/1335.jpg', '/content/fish/2042.jpg', '/content/fish/2979.jpg', '/content/fish/1442.jpg', '/content/fish/2993.jpg', '/content/fish/3763.jpg', '/content/fish/2861.jpg']\n",
            "1.0\n"
          ],
          "name": "stdout"
        }
      ]
    },
    {
      "cell_type": "code",
      "metadata": {
        "id": "HdYUr2eA6rCZ"
      },
      "source": [
        "import cv2, os, copy, pickle\n",
        "from google.colab.patches import cv2_imshow\n",
        "\n",
        "with open( \"fish.pkl\", \"rb\") as fp:\n",
        "  clf = pickle.load(fp)\n",
        "\n",
        "  output_dir = \"./bestshot\"\n",
        "\n",
        "  if not os.path.isdir(output_dir): os.mkdir(output_dir)\n",
        "  "
      ],
      "execution_count": 6,
      "outputs": []
    },
    {
      "cell_type": "code",
      "metadata": {
        "colab": {
          "base_uri": "https://localhost:8080/"
        },
        "id": "GPjANJ8QBEdY",
        "outputId": "09417f83-3263-4b5c-b59c-93d9f8ab236a"
      },
      "source": [
        "url = \"https://github.com/masatokg/sample_photo/raw/master/fish.mp4\"\n",
        "save_file = \"fish.mp4\"\n",
        "req.urlretrieve(url, save_file)"
      ],
      "execution_count": 7,
      "outputs": [
        {
          "output_type": "execute_result",
          "data": {
            "text/plain": [
              "('fish.mp4', <http.client.HTTPMessage at 0x7f2ea674e908>)"
            ]
          },
          "metadata": {
            "tags": []
          },
          "execution_count": 7
        }
      ]
    },
    {
      "cell_type": "code",
      "metadata": {
        "id": "XnwqtRoHMf9n",
        "colab": {
          "base_uri": "https://localhost:8080/"
        },
        "outputId": "a6f6d33d-e213-4477-ccf2-0a18b075677d"
      },
      "source": [
        "cap = cv2.VideoCapture( save_file )\r\n",
        "\r\n",
        "while(True):\r\n",
        "  is_ok, frame = cap.read()\r\n",
        "  if not is_ok:\r\n",
        "    print(\"end\")\r\n",
        "    break\r\n",
        "\r\n",
        "    frame = cv2.resize( frame, (640, 360) )\r\n",
        "\r\n",
        "    frame2 = copy.copy( frame )\r\n",
        "    frame_count += 1\r\n",
        "\r\n",
        "    gray = cv2.cvtColor( frame, cv2.COLOR_BGR2GRAY )\r\n",
        "    gray = cv2.GaussianBlur( gray, (15, 15), 0 )\r\n",
        "    img_b = cv2.threshold( gray, 127, 255, cv2.THRESH_BINARY )[1]\r\n",
        "\r\n",
        "    if not img_last is None:\r\n",
        "\r\n",
        "      frame_diff = cv2.absdiff( img_last, img_b )\r\n",
        "      cnts = cv2.findContours( frame_diff, cv2.RETR_EXTERNAL, cv2.CHAIN_APPROX_SIMPLE)[0]\r\n",
        "\r\n",
        "      fish_count = 0\r\n",
        "      for pt in cnts:\r\n",
        "\r\n",
        "        imgex = frame[ y:y+h, x:x+w ]\r\n",
        "        imgex = cv2.resize( imgex, (64, 32) )\r\n",
        "        image_data = imgex.reshape( -1, )\r\n",
        "\r\n",
        "        pred_y = clf.predict([image_data])\r\n",
        "\r\n",
        "        if pred_y[0] == 1:\r\n",
        "          fish_count += 1\r\n",
        "          cv2.rectangle( frame2, (x,y), (x+w, y+h), (0,255,0), 2 )\r\n",
        "\r\n",
        "      if fish_count > fish_th:\r\n",
        "        frame = output_dir + \"/fish\" + str(count) + \".jpg\"\r\n",
        "        cv2.imwrite( frame, frame )\r\n",
        "        count += 1\r\n",
        "\r\n",
        "        img_last = img_b\r\n",
        "\r\n",
        "        cap.release()\r\n",
        "\r\n",
        "        print( \"ok\", count, \"/\", frame_count, \"/枚検出\")\r\n"
      ],
      "execution_count": 8,
      "outputs": [
        {
          "output_type": "stream",
          "text": [
            "end\n"
          ],
          "name": "stdout"
        }
      ]
    }
  ]
}