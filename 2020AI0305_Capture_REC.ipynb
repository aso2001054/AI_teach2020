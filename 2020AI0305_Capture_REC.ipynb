{
  "nbformat": 4,
  "nbformat_minor": 0,
  "metadata": {
    "colab": {
      "name": "2020AI0305-Capture-REC.ipynb",
      "provenance": [],
      "collapsed_sections": [],
      "authorship_tag": "ABX9TyOMCGmsyvLAS4+2r+d91/zp",
      "include_colab_link": true
    },
    "kernelspec": {
      "name": "python3",
      "display_name": "Python 3"
    }
  },
  "cells": [
    {
      "cell_type": "markdown",
      "metadata": {
        "id": "view-in-github",
        "colab_type": "text"
      },
      "source": [
        "<a href=\"https://colab.research.google.com/github/aso2001054/AI_teach2020/blob/master/2020AI0305_Capture_REC.ipynb\" target=\"_parent\"><img src=\"https://colab.research.google.com/assets/colab-badge.svg\" alt=\"Open In Colab\"/></a>"
      ]
    },
    {
      "cell_type": "code",
      "metadata": {
        "id": "0y7RiRRFNMj4"
      },
      "source": [
        "import cv2, os\n",
        "import urllib.request as req"
      ],
      "execution_count": 14,
      "outputs": []
    },
    {
      "cell_type": "code",
      "metadata": {
        "colab": {
          "base_uri": "https://localhost:8080/"
        },
        "id": "BJlDk6RVO-p7",
        "outputId": "f0bbf30a-14f3-450d-e04a-8c520dc5b860"
      },
      "source": [
        "url = \"https://github.com/masatokg/sample_photo/raw/master/fish.mp4\"\n",
        "save_file = \"fish.mp4\"\n",
        "req.urlretrieve(url, save_file)"
      ],
      "execution_count": 15,
      "outputs": [
        {
          "output_type": "execute_result",
          "data": {
            "text/plain": [
              "('fish.mp4', <http.client.HTTPMessage at 0x7f713d49af60>)"
            ]
          },
          "metadata": {
            "tags": []
          },
          "execution_count": 15
        }
      ]
    },
    {
      "cell_type": "code",
      "metadata": {
        "id": "cHuNIRMfQset"
      },
      "source": [
        "out_file = \"out.mp4\"\n",
        "\n",
        "cap = cv2.VideoCapture(save_file)\n",
        "\n",
        "fourcc = cv2.VideoWriter_fourcc('M', 'P', '4', 'V')\n",
        "\n",
        "fps = 30.0"
      ],
      "execution_count": 16,
      "outputs": []
    },
    {
      "cell_type": "code",
      "metadata": {
        "id": "2sNwXDaoRmLd"
      },
      "source": [
        "def process_img(frame):\n",
        "\n",
        "  frame[:, :, 0] = 0;\n",
        "  frame[:, :, 1] = 0;\n",
        "\n",
        "  return frame"
      ],
      "execution_count": 17,
      "outputs": []
    },
    {
      "cell_type": "code",
      "metadata": {
        "id": "2jcQ-eo2T8X2"
      },
      "source": [
        "def open_recorder( frame ):\n",
        "  h = len( frame )\n",
        "  w = len( frame[0] )\n",
        "  size = (h, w)\n",
        "\n",
        "  recorder = cv2.VideoWriter(out_file, fourcc, fps, size, isColor=True)\n",
        "  return recorder"
      ],
      "execution_count": 18,
      "outputs": []
    },
    {
      "cell_type": "code",
      "metadata": {
        "id": "KzvESL9SXecO",
        "colab": {
          "base_uri": "https://localhost:8080/",
          "height": 134
        },
        "outputId": "a9be6700-616c-42a1-8abc-9761d210f679"
      },
      "source": [
        "is_ok, frame = cap.read()\n",
        "\n",
        "if is_ok:\n",
        "  print(\"1 frame has read.\")\n",
        "  recorder = open_recorder( frame )\n",
        "  while True:\n",
        "    frame = process_img( frame )\n",
        "    recorder.write( frame )\n",
        "    is_ok, frame = cap.read()\n",
        "    if is_ok, is not True:\n",
        "      break\n",
        "\n",
        "else:\n",
        "  print(\"there is no frame.\")\n",
        "      \n"
      ],
      "execution_count": 23,
      "outputs": [
        {
          "output_type": "error",
          "ename": "SyntaxError",
          "evalue": "ignored",
          "traceback": [
            "\u001b[0;36m  File \u001b[0;32m\"<ipython-input-23-d53def6bf7e5>\"\u001b[0;36m, line \u001b[0;32m10\u001b[0m\n\u001b[0;31m    if is_ok, is not True:\u001b[0m\n\u001b[0m            ^\u001b[0m\n\u001b[0;31mSyntaxError\u001b[0m\u001b[0;31m:\u001b[0m invalid syntax\n"
          ]
        }
      ]
    },
    {
      "cell_type": "code",
      "metadata": {
        "id": "SaGKgbq__AFd"
      },
      "source": [
        "recorder.release()\r\n",
        "cap.release\r\n",
        "print(\"capture and recording end.\")\r\n",
        "from google.colab import files\r\n",
        "files.download(out_file)"
      ],
      "execution_count": null,
      "outputs": []
    }
  ]
}